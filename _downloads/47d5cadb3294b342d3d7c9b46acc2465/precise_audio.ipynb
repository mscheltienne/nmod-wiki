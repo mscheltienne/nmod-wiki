{
  "cells": [
    {
      "cell_type": "markdown",
      "metadata": {},
      "source": [
        "\n\n# Precise audio presentation\n\n.. include:: ../../links.inc\n\nWhen delivering a sound through the soundcard of a computer and a trigger through the\nparallel port, it's important to ensure that the sound and the trigger are synchronized.\n\n## Python sleep precision\n\nThe :func:`time.sleep` function from the `time` module is not precise enough to halt the\nprogram execution for a precise amount of time. The variability depends on the operating\nsystem and python version and should be measured before using it in an experiment.\n"
      ]
    },
    {
      "cell_type": "code",
      "execution_count": null,
      "metadata": {
        "collapsed": false
      },
      "outputs": [],
      "source": [
        "import time\nimport timeit\n\nimport numpy as np\n\ntimes = timeit.repeat(\"time.sleep(0.005)\", repeat=3, number=100, globals=globals())\ntimes = np.array(times) / 100\nprint(f\"Mean: {np.mean(times):.8f} seconds\")\nprint(f\"Standard Deviation: {np.std(times):.8f} seconds\")"
      ]
    },
    {
      "cell_type": "markdown",
      "metadata": {},
      "source": [
        "Locally, I measured 5.06822 ms \u00b1 61.4 \u03bcs per loop (mean \u00b1 std. dev. of 3 runs, 100\nloop each).\n\nIf greater sleeping precision is needed, the sleeping period can be cut into segments\nwaited with :func:`time.sleep` and a last segment where a :func:`time.perf_counter` is\nused to wait for the remaining time.\n\n<div class=\"alert alert-info\"><h4>Note</h4><p>Note that using :func:`time.sleep` is important as it gives back the control to\n    the operating system, allowing other processes to run.</p></div>\n\n"
      ]
    },
    {
      "cell_type": "code",
      "execution_count": null,
      "metadata": {
        "collapsed": false
      },
      "outputs": [],
      "source": [
        "def high_precision_sleep(duration: float) -> None:\n    \"\"\"High precision sleep function.\"\"\"\n    start_time = time.perf_counter()\n    assert 0 < duration, \"The duration must be strictly positive.\"\n    while True:\n        elapsed_time = time.perf_counter() - start_time\n        remaining_time = duration - elapsed_time\n        if remaining_time <= 0:\n            break\n        if remaining_time >= 0.0002:\n            time.sleep(remaining_time / 2)\n\n\ntimes = timeit.repeat(\n    \"high_precision_sleep(0.005)\", repeat=3, number=100, globals=globals()\n)\ntimes = np.array(times) / 100\nprint(f\"Mean: {np.mean(times):.8f} seconds\")\nprint(f\"Standard Deviation: {np.std(times):.8f} seconds\")"
      ]
    },
    {
      "cell_type": "markdown",
      "metadata": {},
      "source": [
        "Locally, I measured 5.00070 ms \u00b1 0.08 \u03bcs per loop (mean \u00b1 std. dev. of 3 runs, 100\nloop each).\n\n## Psychopy and Psychtoolbox\n\n`Psychtoolbox`_ is a compiled toolbox for MATLAB that allows to present stimuli with\nprecision. Despite a lack of funding and resources to support it, it's still one of\nthe most used stimuli presentation toolboxes. Some of its functionalities are\navailable in Python, especially through the `Psychopy`_ library.\n\n"
      ]
    },
    {
      "cell_type": "code",
      "execution_count": null,
      "metadata": {
        "collapsed": false
      },
      "outputs": [],
      "source": [
        "# In this example, we will use the python interface of `Psychtoolbox`_ combined with\n# triggers from :class:`byte_triggers.ParallelPortTrigger` to deliver synchronize audio\n# stimuli and triggers.\n\nimport psychtoolbox as ptb\nfrom byte_triggers import ParallelPortTrigger\nfrom psychopy.sound.backend_ptb import SoundPTB\n\n# create the sound and trigger object\nsound = SoundPTB(value=440.0, secs=0.2, blockSize=16)\ntrigger = ParallelPortTrigger(0x2FB8)  # or \"/dev/parport0\" on linux\n\n# loop 10 times and deliver 10 sounds\nfor k in range(10):\n    now = ptb.GetSecs()\n    sound.play(when=now + 0.2)  # schedule the sound in 200 ms\n    high_precision_sleep(0.2)  # wait for 200 ms\n    trigger.signal(1)  # send the trigger\n    print(f\"Sound {k + 1} delivered.\")\n    high_precision_sleep(0.5)  # wait between sounds"
      ]
    },
    {
      "cell_type": "markdown",
      "metadata": {},
      "source": [
        "The key elements are to schedule the sound with the ``when`` argument of the\n`Psychtoolbox`_ backend, wait for the scheduling duration, and deliver the trigger.\nWith this method, the trigger to sound delay should be less than 1 ms.\n\n.. figure:: ../../_static/tutorials/trigger-sound-delay-epochs.png\n    :align: center\n    :alt: Epochs showing the trigger to sound delay\n\nThe measure above was done with a 1024 Hz sampling rate on an ANT Neuro EEG system.\nMeasuring algorithmically the delay between the trigger and the sound is possible\nthrough a threshold on the absolute value of the hilbert transformed signal, yielding:\n\n.. figure:: ../../_static/tutorials/trigger-sound-delay-hist.png\n    :align: center\n    :alt: Epochs showing the trigger to sound delay\n\n<div class=\"alert alert-info\"><h4>Note</h4><p>Note that the measure through the absolute value of the hilbert transformed signal\n    is a good automatic sound onset detection method, but it's not perfect and the\n    thresholding inherently adds jitter to the measure.</p></div>\n\n"
      ]
    }
  ],
  "metadata": {
    "kernelspec": {
      "display_name": "Python 3",
      "language": "python",
      "name": "python3"
    },
    "language_info": {
      "codemirror_mode": {
        "name": "ipython",
        "version": 3
      },
      "file_extension": ".py",
      "mimetype": "text/x-python",
      "name": "python",
      "nbconvert_exporter": "python",
      "pygments_lexer": "ipython3",
      "version": "3.11.11"
    }
  },
  "nbformat": 4,
  "nbformat_minor": 0
}